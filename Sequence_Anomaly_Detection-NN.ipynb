{
 "cells": [
  {
   "cell_type": "code",
   "execution_count": 29,
   "metadata": {},
   "outputs": [],
   "source": [
    "import random\n",
    "import pandas as pd\n",
    "import numpy as np"
   ]
  },
  {
   "cell_type": "code",
   "execution_count": 30,
   "metadata": {},
   "outputs": [],
   "source": [
    "import matplotlib.pyplot as plt\n",
    "import seaborn as sns\n",
    "%matplotlib inline\n",
    "from pylab import rcParams\n",
    "\n",
    "rcParams['figure.figsize'] = 12, 6\n",
    "sns.set(style='whitegrid', palette='muted', font_scale=1.5)\n"
   ]
  },
  {
   "cell_type": "markdown",
   "metadata": {},
   "source": [
    "### Generate Sequence Data"
   ]
  },
  {
   "cell_type": "code",
   "execution_count": 31,
   "metadata": {},
   "outputs": [
    {
     "name": "stdout",
     "output_type": "stream",
     "text": [
      "CEBF0ZPQ\n"
     ]
    }
   ],
   "source": [
    "first_letters =  'ABCDEF'\n",
    "second_numbers = '120'\n",
    "last_letters = 'QWOPZXML'\n",
    "\n",
    "# returns a string of the following format: [4 letters A-F][1 digit 0-2][3 letters QWOPZXML]\n",
    "def get_random_string():\n",
    "    str1 = ''.join(random.choice(first_letters) for i in range(4))\n",
    "    str2 = random.choice(second_numbers)\n",
    "    str3 = ''.join(random.choice(last_letters) for i in range(3))\n",
    "    return str1+str2+str3\n",
    "    \n",
    "print(get_random_string())"
   ]
  },
  {
   "cell_type": "code",
   "execution_count": 32,
   "metadata": {},
   "outputs": [
    {
     "data": {
      "text/plain": [
       "['CBCA2QOM', 'FBEF0WZW', 'DBFB2ZML', 'BFCB2WXO']"
      ]
     },
     "execution_count": 32,
     "metadata": {},
     "output_type": "execute_result"
    }
   ],
   "source": [
    "# get 25,000 sequences of this format\n",
    "random_sequences = [get_random_string() for i in range(25000)]\n",
    "random_sequences[1:5]"
   ]
  },
  {
   "cell_type": "code",
   "execution_count": 33,
   "metadata": {},
   "outputs": [],
   "source": [
    "#Build the char index that we will use to encode seqs to numbers\n",
    "char_index = '0abcdefghijklmnopqrstuvwxyz'\n",
    "char_index +='ABCDEFGHIJKLMNOPQRSTUVWXYZ'\n",
    "char_index += '123456789'\n",
    "char_index += '().,-/+=&$?@#!*:;_[]|%⸏{}\\\"\\'' + ' ' +'\\\\'\n",
    "\n",
    "char_to_int = dict((c, i) for i, c in enumerate(char_index))\n",
    "int_to_char = dict((i, c) for i, c in enumerate(char_index))"
   ]
  },
  {
   "cell_type": "code",
   "execution_count": 34,
   "metadata": {},
   "outputs": [],
   "source": [
    "from keras.preprocessing.sequence import pad_sequences\n",
    "#function that convert a char seqs to numbers seqs \n",
    "#(it does a little more but lets leave it for now)\n",
    "def encode_sequence_list(seqs, feat_n=0):\n",
    "    encoded_seqs = []\n",
    "    for seq in seqs:\n",
    "        encoded_seq = [char_to_int[c] for c in seq]\n",
    "        encoded_seqs.append(encoded_seq)\n",
    "    if(feat_n > 0):\n",
    "        encoded_seqs.append(np.zeros(feat_n))\n",
    "    return pad_sequences(encoded_seqs, padding='post')\n",
    "\n",
    "def decode_sequence_list(seqs):\n",
    "    decoded_seqs = []\n",
    "    for seq in seqs:\n",
    "        decoded_seq = [int_to_char[i] for i in seq]\n",
    "        decoded_seqs.append(decoded_seq)\n",
    "    return decoded_seqs\n"
   ]
  },
  {
   "cell_type": "code",
   "execution_count": 35,
   "metadata": {},
   "outputs": [],
   "source": [
    "# add some anomalies to our list\n",
    "random_sequences.extend(['XYDC2DCA', 'TXSX1ABC','RNIU4XRE','AABDXUEI','SDRAC5RF'])\n",
    "#save this to a dataframe\n",
    "seqs_ds = pd.DataFrame(random_sequences)\n",
    "# encode each string seq to an integer array [[1],[5],[67]], [[45],[76],[7]\n",
    "encoded_seqs = encode_sequence_list(random_sequences)\n",
    "# mix everything up\n",
    "np.random.shuffle(encoded_seqs)\n"
   ]
  },
  {
   "cell_type": "code",
   "execution_count": 36,
   "metadata": {},
   "outputs": [
    {
     "name": "stdout",
     "output_type": "stream",
     "text": [
      "EBCA0OXO\n",
      "[29 32 27 27  0 42 42 38]\n"
     ]
    }
   ],
   "source": [
    "print(random_sequences[10])\n",
    "print(encoded_seqs[10])"
   ]
  },
  {
   "cell_type": "code",
   "execution_count": 37,
   "metadata": {},
   "outputs": [
    {
     "data": {
      "text/plain": [
       "(25005, 8)"
      ]
     },
     "execution_count": 37,
     "metadata": {},
     "output_type": "execute_result"
    }
   ],
   "source": [
    "encoded_seqs.shape"
   ]
  },
  {
   "cell_type": "markdown",
   "metadata": {},
   "source": [
    "### Prepare the Data and Build an Autoencoder"
   ]
  },
  {
   "cell_type": "code",
   "execution_count": 38,
   "metadata": {},
   "outputs": [],
   "source": [
    "from sklearn.preprocessing import StandardScaler, MinMaxScaler\n",
    "scaler = MinMaxScaler()\n",
    "scaled_seqs = scaler.fit_transform(encoded_seqs)\n",
    "X_train = scaled_seqs[:20000]\n",
    "X_test = scaled_seqs[20000:]"
   ]
  },
  {
   "cell_type": "code",
   "execution_count": 39,
   "metadata": {},
   "outputs": [],
   "source": [
    "from keras.models import Model, load_model\n",
    "from keras.layers import Input, Dense, Dropout, LSTM\n",
    "from keras.callbacks import ModelCheckpoint, TensorBoard\n",
    "from keras import regularizers\n",
    "\n",
    "input_dim = X_train.shape[1] #features\n",
    "encoding_dim = 8\n",
    "hidden_dim = int(encoding_dim / 2)\n",
    "\n",
    "nb_epoch = 30\n",
    "batch_size = 128\n",
    "learning_rate = 0.1\n",
    "\n",
    "input_layer = Input(shape=(input_dim, ))\n",
    "\n",
    "encoder = Dense(encoding_dim, activation=\"tanh\", activity_regularizer=regularizers.l1(10e-5))(input_layer)\n",
    "encoder = Dense(hidden_dim, activation=\"relu\")(encoder)\n",
    "decoder = Dense(hidden_dim, activation='relu')(encoder)\n",
    "decoder = Dense(encoding_dim, activation='relu')(encoder)\n",
    "decoder = Dense(input_dim, activation='tanh')(decoder)\n",
    "\n",
    "autoencoder = Model(inputs=input_layer, outputs=decoder)\n",
    "\n"
   ]
  },
  {
   "cell_type": "markdown",
   "metadata": {},
   "source": [
    "### Fit the Model"
   ]
  },
  {
   "cell_type": "code",
   "execution_count": 40,
   "metadata": {},
   "outputs": [
    {
     "name": "stdout",
     "output_type": "stream",
     "text": [
      "Train on 20000 samples, validate on 5005 samples\n",
      "Epoch 1/30\n",
      "20000/20000 [==============================] - 0s 19us/step - loss: 0.1812 - accuracy: 0.1849 - val_loss: 0.0926 - val_accuracy: 0.2042\n",
      "Epoch 2/30\n",
      "20000/20000 [==============================] - 0s 8us/step - loss: 0.0822 - accuracy: 0.2224 - val_loss: 0.0719 - val_accuracy: 0.2374\n",
      "Epoch 3/30\n",
      "20000/20000 [==============================] - 0s 8us/step - loss: 0.0641 - accuracy: 0.2403 - val_loss: 0.0565 - val_accuracy: 0.2296\n",
      "Epoch 4/30\n",
      "20000/20000 [==============================] - 0s 8us/step - loss: 0.0508 - accuracy: 0.2358 - val_loss: 0.0438 - val_accuracy: 0.2300\n",
      "Epoch 5/30\n",
      "20000/20000 [==============================] - 0s 8us/step - loss: 0.0384 - accuracy: 0.2470 - val_loss: 0.0321 - val_accuracy: 0.4338\n",
      "Epoch 6/30\n",
      "20000/20000 [==============================] - 0s 8us/step - loss: 0.0282 - accuracy: 0.6445 - val_loss: 0.0250 - val_accuracy: 0.6719\n",
      "Epoch 7/30\n",
      "20000/20000 [==============================] - 0s 8us/step - loss: 0.0232 - accuracy: 0.6912 - val_loss: 0.0213 - val_accuracy: 0.7443\n",
      "Epoch 8/30\n",
      "20000/20000 [==============================] - 0s 8us/step - loss: 0.0202 - accuracy: 0.7430 - val_loss: 0.0188 - val_accuracy: 0.7544\n",
      "Epoch 9/30\n",
      "20000/20000 [==============================] - 0s 8us/step - loss: 0.0179 - accuracy: 0.7473 - val_loss: 0.0168 - val_accuracy: 0.7568\n",
      "Epoch 10/30\n",
      "20000/20000 [==============================] - 0s 8us/step - loss: 0.0161 - accuracy: 0.7464 - val_loss: 0.0151 - val_accuracy: 0.7570\n",
      "Epoch 11/30\n",
      "20000/20000 [==============================] - 0s 10us/step - loss: 0.0145 - accuracy: 0.7487 - val_loss: 0.0137 - val_accuracy: 0.7602\n",
      "Epoch 12/30\n",
      "20000/20000 [==============================] - 0s 10us/step - loss: 0.0132 - accuracy: 0.7514 - val_loss: 0.0126 - val_accuracy: 0.7616\n",
      "Epoch 13/30\n",
      "20000/20000 [==============================] - 0s 9us/step - loss: 0.0122 - accuracy: 0.7530 - val_loss: 0.0116 - val_accuracy: 0.7614\n",
      "Epoch 14/30\n",
      "20000/20000 [==============================] - 0s 11us/step - loss: 0.0113 - accuracy: 0.7541 - val_loss: 0.0107 - val_accuracy: 0.7638\n",
      "Epoch 15/30\n",
      "20000/20000 [==============================] - 0s 19us/step - loss: 0.0104 - accuracy: 0.7584 - val_loss: 0.0100 - val_accuracy: 0.7656\n",
      "Epoch 16/30\n",
      "20000/20000 [==============================] - 0s 11us/step - loss: 0.0100 - accuracy: 0.7587 - val_loss: 0.0097 - val_accuracy: 0.7648\n",
      "Epoch 17/30\n",
      "20000/20000 [==============================] - 0s 8us/step - loss: 0.0096 - accuracy: 0.7574 - val_loss: 0.0094 - val_accuracy: 0.7642\n",
      "Epoch 18/30\n",
      "20000/20000 [==============================] - 0s 8us/step - loss: 0.0093 - accuracy: 0.7575 - val_loss: 0.0091 - val_accuracy: 0.7644\n",
      "Epoch 19/30\n",
      "20000/20000 [==============================] - 0s 8us/step - loss: 0.0091 - accuracy: 0.7584 - val_loss: 0.0089 - val_accuracy: 0.7684\n",
      "Epoch 20/30\n",
      "20000/20000 [==============================] - 0s 8us/step - loss: 0.0088 - accuracy: 0.7598 - val_loss: 0.0086 - val_accuracy: 0.7652\n",
      "Epoch 21/30\n",
      "20000/20000 [==============================] - 0s 8us/step - loss: 0.0086 - accuracy: 0.7631 - val_loss: 0.0084 - val_accuracy: 0.7718\n",
      "Epoch 22/30\n",
      "20000/20000 [==============================] - 0s 8us/step - loss: 0.0083 - accuracy: 0.7686 - val_loss: 0.0081 - val_accuracy: 0.7760\n",
      "Epoch 23/30\n",
      "20000/20000 [==============================] - 0s 8us/step - loss: 0.0080 - accuracy: 0.7774 - val_loss: 0.0078 - val_accuracy: 0.7800\n",
      "Epoch 24/30\n",
      "20000/20000 [==============================] - 0s 8us/step - loss: 0.0077 - accuracy: 0.7861 - val_loss: 0.0075 - val_accuracy: 0.7934\n",
      "Epoch 25/30\n",
      "20000/20000 [==============================] - 0s 8us/step - loss: 0.0074 - accuracy: 0.7957 - val_loss: 0.0071 - val_accuracy: 0.8090\n",
      "Epoch 26/30\n",
      "20000/20000 [==============================] - 0s 8us/step - loss: 0.0070 - accuracy: 0.8061 - val_loss: 0.0067 - val_accuracy: 0.8262\n",
      "Epoch 27/30\n",
      "20000/20000 [==============================] - 0s 8us/step - loss: 0.0067 - accuracy: 0.8179 - val_loss: 0.0064 - val_accuracy: 0.8342\n",
      "Epoch 28/30\n",
      "20000/20000 [==============================] - 0s 9us/step - loss: 0.0062 - accuracy: 0.8253 - val_loss: 0.0059 - val_accuracy: 0.8402\n",
      "Epoch 29/30\n",
      "20000/20000 [==============================] - 0s 9us/step - loss: 0.0059 - accuracy: 0.8302 - val_loss: 0.0056 - val_accuracy: 0.8450\n",
      "Epoch 30/30\n",
      "20000/20000 [==============================] - 0s 8us/step - loss: 0.0056 - accuracy: 0.8325 - val_loss: 0.0054 - val_accuracy: 0.8460\n"
     ]
    }
   ],
   "source": [
    "autoencoder.compile(optimizer='adam', \n",
    "                    loss='mean_squared_error', \n",
    "                    metrics=['accuracy'])\n",
    "\n",
    "checkpointer = ModelCheckpoint(filepath=\"model_seqs2.h5\",\n",
    "                               verbose=0,\n",
    "                               save_best_only=True)\n",
    "\n",
    "tensorboard = TensorBoard(log_dir='./logs',\n",
    "                          histogram_freq=0,\n",
    "                          write_graph=True,\n",
    "                          write_images=True)\n",
    "\n",
    "history = autoencoder.fit(X_train, X_train,\n",
    "                    epochs=nb_epoch,\n",
    "                    batch_size=batch_size,\n",
    "                    shuffle=True,\n",
    "                    validation_data=(X_test, X_test),\n",
    "                    verbose=1,\n",
    "                    callbacks=[checkpointer, tensorboard]).history"
   ]
  },
  {
   "cell_type": "code",
   "execution_count": 41,
   "metadata": {},
   "outputs": [
    {
     "data": {
      "image/png": "[encoded data removed]",
      "text/plain": [
       "<Figure size 864x432 with 1 Axes>"
      ]
     },
     "metadata": {},
     "output_type": "display_data"
    }
   ],
   "source": [
    "plt.plot(history['loss'])\n",
    "plt.plot(history['val_loss'])\n",
    "plt.title('model loss')\n",
    "plt.ylabel('loss')\n",
    "plt.xlabel('epoch')\n",
    "plt.legend(['train', 'test'], loc='upper right');"
   ]
  },
  {
   "cell_type": "code",
   "execution_count": 42,
   "metadata": {},
   "outputs": [
    {
     "name": "stdout",
     "output_type": "stream",
     "text": [
      "Min Loss:0.005610667576640844\n"
     ]
    }
   ],
   "source": [
    "autoencoder = load_model('model_seqs2.h5')\n",
    "print(f'Min Loss:{np.min(history[\"loss\"])}')"
   ]
  },
  {
   "cell_type": "markdown",
   "metadata": {},
   "source": [
    "### Calculate the Error Term"
   ]
  },
  {
   "cell_type": "code",
   "execution_count": 44,
   "metadata": {},
   "outputs": [
    {
     "name": "stdout",
     "output_type": "stream",
     "text": [
      "MSE: 0.15200022604666635\n"
     ]
    }
   ],
   "source": [
    "#get the MSE error term\n",
    "predictions = autoencoder.predict(scaled_seqs)\n",
    "mse = np.mean(np.power(scaled_seqs - predictions, 2), axis=1)\n",
    "print('MSE:', np.quantile(mse, 0.9999)) # => the 9999% quatile - only 0.0001% have error score higher than that\n"
   ]
  },
  {
   "cell_type": "markdown",
   "metadata": {},
   "source": [
    "### Lets return to the seqs_ds data set that holds all the sequences"
   ]
  },
  {
   "cell_type": "code",
   "execution_count": 45,
   "metadata": {},
   "outputs": [],
   "source": [
    "#encode all the data\n",
    "encoded_seqs = encode_sequence_list(seqs_ds.iloc[:,0])\n",
    "#scale it\n",
    "scaled_data = MinMaxScaler().fit_transform(encoded_seqs)\n",
    "#predict it\n",
    "predicted = autoencoder.predict(scaled_data)\n",
    "#get the error term\n",
    "mse = np.mean(np.power(scaled_data - predicted, 2), axis=1)\n",
    "#now add them to our data frame\n",
    "seqs_ds['MSE'] = mse"
   ]
  },
  {
   "cell_type": "code",
   "execution_count": 46,
   "metadata": {},
   "outputs": [
    {
     "data": {
      "text/html": [
       "<div>\n",
       "<style scoped>\n",
       "    .dataframe tbody tr th:only-of-type {\n",
       "        vertical-align: middle;\n",
       "    }\n",
       "\n",
       "    .dataframe tbody tr th {\n",
       "        vertical-align: top;\n",
       "    }\n",
       "\n",
       "    .dataframe thead th {\n",
       "        text-align: right;\n",
       "    }\n",
       "</style>\n",
       "<table border=\"1\" class=\"dataframe\">\n",
       "  <thead>\n",
       "    <tr style=\"text-align: right;\">\n",
       "      <th></th>\n",
       "      <th>0</th>\n",
       "      <th>MSE</th>\n",
       "    </tr>\n",
       "  </thead>\n",
       "  <tbody>\n",
       "    <tr>\n",
       "      <td>0</td>\n",
       "      <td>AFEC0XWP</td>\n",
       "      <td>0.003568</td>\n",
       "    </tr>\n",
       "    <tr>\n",
       "      <td>1</td>\n",
       "      <td>CBCA2QOM</td>\n",
       "      <td>0.002053</td>\n",
       "    </tr>\n",
       "    <tr>\n",
       "      <td>2</td>\n",
       "      <td>FBEF0WZW</td>\n",
       "      <td>0.004257</td>\n",
       "    </tr>\n",
       "    <tr>\n",
       "      <td>3</td>\n",
       "      <td>DBFB2ZML</td>\n",
       "      <td>0.003114</td>\n",
       "    </tr>\n",
       "    <tr>\n",
       "      <td>4</td>\n",
       "      <td>BFCB2WXO</td>\n",
       "      <td>0.003441</td>\n",
       "    </tr>\n",
       "    <tr>\n",
       "      <td>...</td>\n",
       "      <td>...</td>\n",
       "      <td>...</td>\n",
       "    </tr>\n",
       "    <tr>\n",
       "      <td>25000</td>\n",
       "      <td>XYDC2DCA</td>\n",
       "      <td>0.250650</td>\n",
       "    </tr>\n",
       "    <tr>\n",
       "      <td>25001</td>\n",
       "      <td>TXSX1ABC</td>\n",
       "      <td>0.426570</td>\n",
       "    </tr>\n",
       "    <tr>\n",
       "      <td>25002</td>\n",
       "      <td>RNIU4XRE</td>\n",
       "      <td>0.153035</td>\n",
       "    </tr>\n",
       "    <tr>\n",
       "      <td>25003</td>\n",
       "      <td>AABDXUEI</td>\n",
       "      <td>0.015174</td>\n",
       "    </tr>\n",
       "    <tr>\n",
       "      <td>25004</td>\n",
       "      <td>SDRAC5RF</td>\n",
       "      <td>0.150967</td>\n",
       "    </tr>\n",
       "  </tbody>\n",
       "</table>\n",
       "<p>25005 rows × 2 columns</p>\n",
       "</div>"
      ],
      "text/plain": [
       "              0       MSE\n",
       "0      AFEC0XWP  0.003568\n",
       "1      CBCA2QOM  0.002053\n",
       "2      FBEF0WZW  0.004257\n",
       "3      DBFB2ZML  0.003114\n",
       "4      BFCB2WXO  0.003441\n",
       "...         ...       ...\n",
       "25000  XYDC2DCA  0.250650\n",
       "25001  TXSX1ABC  0.426570\n",
       "25002  RNIU4XRE  0.153035\n",
       "25003  AABDXUEI  0.015174\n",
       "25004  SDRAC5RF  0.150967\n",
       "\n",
       "[25005 rows x 2 columns]"
      ]
     },
     "metadata": {},
     "output_type": "display_data"
    }
   ],
   "source": [
    "display(seqs_ds)"
   ]
  },
  {
   "cell_type": "code",
   "execution_count": 50,
   "metadata": {},
   "outputs": [
    {
     "name": "stdout",
     "output_type": "stream",
     "text": [
      "MSE 0.9999 threshhold:0.15200022604666635\n"
     ]
    }
   ],
   "source": [
    "mse_threshold = np.quantile(seqs_ds['MSE'], 0.9999)\n",
    "print(f'MSE 0.9999 threshhold:{mse_threshold}')"
   ]
  },
  {
   "cell_type": "code",
   "execution_count": 48,
   "metadata": {},
   "outputs": [],
   "source": [
    "seqs_ds['MSE_Outlier'] = 0\n",
    "seqs_ds.loc[seqs_ds['MSE'] > mse_threshold, 'MSE_Outlier'] = 1"
   ]
  },
  {
   "cell_type": "code",
   "execution_count": 49,
   "metadata": {},
   "outputs": [
    {
     "name": "stdout",
     "output_type": "stream",
     "text": [
      "Num of MSE outlier:3\n"
     ]
    },
    {
     "data": {
      "text/html": [
       "<div>\n",
       "<style scoped>\n",
       "    .dataframe tbody tr th:only-of-type {\n",
       "        vertical-align: middle;\n",
       "    }\n",
       "\n",
       "    .dataframe tbody tr th {\n",
       "        vertical-align: top;\n",
       "    }\n",
       "\n",
       "    .dataframe thead th {\n",
       "        text-align: right;\n",
       "    }\n",
       "</style>\n",
       "<table border=\"1\" class=\"dataframe\">\n",
       "  <thead>\n",
       "    <tr style=\"text-align: right;\">\n",
       "      <th></th>\n",
       "      <th>0</th>\n",
       "      <th>MSE</th>\n",
       "      <th>MSE_Outlier</th>\n",
       "    </tr>\n",
       "  </thead>\n",
       "  <tbody>\n",
       "    <tr>\n",
       "      <td>25000</td>\n",
       "      <td>XYDC2DCA</td>\n",
       "      <td>0.250650</td>\n",
       "      <td>1</td>\n",
       "    </tr>\n",
       "    <tr>\n",
       "      <td>25001</td>\n",
       "      <td>TXSX1ABC</td>\n",
       "      <td>0.426570</td>\n",
       "      <td>1</td>\n",
       "    </tr>\n",
       "    <tr>\n",
       "      <td>25002</td>\n",
       "      <td>RNIU4XRE</td>\n",
       "      <td>0.153035</td>\n",
       "      <td>1</td>\n",
       "    </tr>\n",
       "    <tr>\n",
       "      <td>25003</td>\n",
       "      <td>AABDXUEI</td>\n",
       "      <td>0.015174</td>\n",
       "      <td>0</td>\n",
       "    </tr>\n",
       "    <tr>\n",
       "      <td>25004</td>\n",
       "      <td>SDRAC5RF</td>\n",
       "      <td>0.150967</td>\n",
       "      <td>0</td>\n",
       "    </tr>\n",
       "  </tbody>\n",
       "</table>\n",
       "</div>"
      ],
      "text/plain": [
       "              0       MSE  MSE_Outlier\n",
       "25000  XYDC2DCA  0.250650            1\n",
       "25001  TXSX1ABC  0.426570            1\n",
       "25002  RNIU4XRE  0.153035            1\n",
       "25003  AABDXUEI  0.015174            0\n",
       "25004  SDRAC5RF  0.150967            0"
      ]
     },
     "execution_count": 49,
     "metadata": {},
     "output_type": "execute_result"
    }
   ],
   "source": [
    "print(f\"Num of MSE outlier:{seqs_ds['MSE_Outlier'].sum()}\")\n",
    "\n",
    "seqs_ds.iloc[25000:]"
   ]
  },
  {
   "cell_type": "code",
   "execution_count": null,
   "metadata": {},
   "outputs": [],
   "source": []
  }
 ],
 "metadata": {
  "kernelspec": {
   "display_name": "Python 3",
   "language": "python",
   "name": "python3"
  },
  "language_info": {
   "codemirror_mode": {
    "name": "ipython",
    "version": 3
   },
   "file_extension": ".py",
   "mimetype": "text/x-python",
   "name": "python",
   "nbconvert_exporter": "python",
   "pygments_lexer": "ipython3",
   "version": "3.7.4"
  }
 },
 "nbformat": 4,
 "nbformat_minor": 2
}
